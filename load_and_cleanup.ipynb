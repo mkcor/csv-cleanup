{
 "cells": [
  {
   "cell_type": "markdown",
   "metadata": {},
   "source": [
    "# Lecture des données"
   ]
  },
  {
   "cell_type": "markdown",
   "metadata": {},
   "source": [
    "Quand j'explore/analyse des données, la première chose que je fais est toujours :"
   ]
  },
  {
   "cell_type": "code",
   "execution_count": 1,
   "metadata": {
    "collapsed": true
   },
   "outputs": [],
   "source": [
    "import pandas as pd"
   ]
  },
  {
   "cell_type": "markdown",
   "metadata": {},
   "source": [
    "Pour information/rappel,"
   ]
  },
  {
   "cell_type": "code",
   "execution_count": 2,
   "metadata": {
    "collapsed": false
   },
   "outputs": [
    {
     "data": {
      "text/plain": [
       "'0.17.1'"
      ]
     },
     "execution_count": 2,
     "metadata": {},
     "output_type": "execute_result"
    }
   ],
   "source": [
    "pd.__version__"
   ]
  },
  {
   "cell_type": "markdown",
   "metadata": {},
   "source": [
    "Pour lire un fichier CSV, nous utilisons la bien nommée fonction..."
   ]
  },
  {
   "cell_type": "code",
   "execution_count": 3,
   "metadata": {
    "collapsed": false
   },
   "outputs": [
    {
     "data": {
      "text/html": [
       "<div>\n",
       "<table border=\"1\" class=\"dataframe\">\n",
       "  <thead>\n",
       "    <tr style=\"text-align: right;\">\n",
       "      <th></th>\n",
       "      <th>prénom;nom;âge;garde</th>\n",
       "    </tr>\n",
       "  </thead>\n",
       "  <tbody>\n",
       "    <tr>\n",
       "      <th>0</th>\n",
       "      <td>Toto;Le Magnifique;5;maman</td>\n",
       "    </tr>\n",
       "    <tr>\n",
       "      <th>1</th>\n",
       "      <td>Toto;Le Magnifique;5;papa</td>\n",
       "    </tr>\n",
       "    <tr>\n",
       "      <th>2</th>\n",
       "      <td>Charlie;Brown;99;99</td>\n",
       "    </tr>\n",
       "    <tr>\n",
       "      <th>3</th>\n",
       "      <td>Titi;Canary;4;papa et maman</td>\n",
       "    </tr>\n",
       "    <tr>\n",
       "      <th>4</th>\n",
       "      <td>Suzanne;Lancellotti;3;99</td>\n",
       "    </tr>\n",
       "    <tr>\n",
       "      <th>5</th>\n",
       "      <td>Toto;Le Zombie;4;maman</td>\n",
       "    </tr>\n",
       "  </tbody>\n",
       "</table>\n",
       "</div>"
      ],
      "text/plain": [
       "          prénom;nom;âge;garde\n",
       "0   Toto;Le Magnifique;5;maman\n",
       "1    Toto;Le Magnifique;5;papa\n",
       "2          Charlie;Brown;99;99\n",
       "3  Titi;Canary;4;papa et maman\n",
       "4     Suzanne;Lancellotti;3;99\n",
       "5       Toto;Le Zombie;4;maman"
      ]
     },
     "execution_count": 3,
     "metadata": {},
     "output_type": "execute_result"
    }
   ],
   "source": [
    "pd.read_csv('data/enfants.csv')"
   ]
  },
  {
   "cell_type": "markdown",
   "metadata": {},
   "source": [
    "Ah, oui, j'ai pensé que votre feuille Excel serait exportée avec «;» comme caractère séparateur, car certains champs sont plus susceptibles de contenir des virgules..."
   ]
  },
  {
   "cell_type": "code",
   "execution_count": 4,
   "metadata": {
    "collapsed": false
   },
   "outputs": [
    {
     "data": {
      "text/html": [
       "<div>\n",
       "<table border=\"1\" class=\"dataframe\">\n",
       "  <thead>\n",
       "    <tr style=\"text-align: right;\">\n",
       "      <th></th>\n",
       "      <th>prénom</th>\n",
       "      <th>nom</th>\n",
       "      <th>âge</th>\n",
       "      <th>garde</th>\n",
       "    </tr>\n",
       "  </thead>\n",
       "  <tbody>\n",
       "    <tr>\n",
       "      <th>0</th>\n",
       "      <td>Toto</td>\n",
       "      <td>Le Magnifique</td>\n",
       "      <td>5</td>\n",
       "      <td>maman</td>\n",
       "    </tr>\n",
       "    <tr>\n",
       "      <th>1</th>\n",
       "      <td>Toto</td>\n",
       "      <td>Le Magnifique</td>\n",
       "      <td>5</td>\n",
       "      <td>papa</td>\n",
       "    </tr>\n",
       "    <tr>\n",
       "      <th>2</th>\n",
       "      <td>Charlie</td>\n",
       "      <td>Brown</td>\n",
       "      <td>99</td>\n",
       "      <td>99</td>\n",
       "    </tr>\n",
       "    <tr>\n",
       "      <th>3</th>\n",
       "      <td>Titi</td>\n",
       "      <td>Canary</td>\n",
       "      <td>4</td>\n",
       "      <td>papa et maman</td>\n",
       "    </tr>\n",
       "    <tr>\n",
       "      <th>4</th>\n",
       "      <td>Suzanne</td>\n",
       "      <td>Lancellotti</td>\n",
       "      <td>3</td>\n",
       "      <td>99</td>\n",
       "    </tr>\n",
       "    <tr>\n",
       "      <th>5</th>\n",
       "      <td>Toto</td>\n",
       "      <td>Le Zombie</td>\n",
       "      <td>4</td>\n",
       "      <td>maman</td>\n",
       "    </tr>\n",
       "  </tbody>\n",
       "</table>\n",
       "</div>"
      ],
      "text/plain": [
       "    prénom            nom  âge          garde\n",
       "0     Toto  Le Magnifique    5          maman\n",
       "1     Toto  Le Magnifique    5           papa\n",
       "2  Charlie          Brown   99             99\n",
       "3     Titi         Canary    4  papa et maman\n",
       "4  Suzanne    Lancellotti    3             99\n",
       "5     Toto      Le Zombie    4          maman"
      ]
     },
     "execution_count": 4,
     "metadata": {},
     "output_type": "execute_result"
    }
   ],
   "source": [
    "pd.read_csv('data/enfants.csv', sep=';')"
   ]
  },
  {
   "cell_type": "markdown",
   "metadata": {},
   "source": [
    "Bien. On dirait que les valeurs inconnues/manquantes sont indiquées par «99». Alors spécifions cela dans les options de la merveilleuse fonction `read_csv()`."
   ]
  },
  {
   "cell_type": "code",
   "execution_count": 5,
   "metadata": {
    "collapsed": false
   },
   "outputs": [
    {
     "data": {
      "text/html": [
       "<div>\n",
       "<table border=\"1\" class=\"dataframe\">\n",
       "  <thead>\n",
       "    <tr style=\"text-align: right;\">\n",
       "      <th></th>\n",
       "      <th>prénom</th>\n",
       "      <th>nom</th>\n",
       "      <th>âge</th>\n",
       "      <th>garde</th>\n",
       "    </tr>\n",
       "  </thead>\n",
       "  <tbody>\n",
       "    <tr>\n",
       "      <th>0</th>\n",
       "      <td>Toto</td>\n",
       "      <td>Le Magnifique</td>\n",
       "      <td>5</td>\n",
       "      <td>maman</td>\n",
       "    </tr>\n",
       "    <tr>\n",
       "      <th>1</th>\n",
       "      <td>Toto</td>\n",
       "      <td>Le Magnifique</td>\n",
       "      <td>5</td>\n",
       "      <td>papa</td>\n",
       "    </tr>\n",
       "    <tr>\n",
       "      <th>2</th>\n",
       "      <td>Charlie</td>\n",
       "      <td>Brown</td>\n",
       "      <td>NaN</td>\n",
       "      <td>NaN</td>\n",
       "    </tr>\n",
       "    <tr>\n",
       "      <th>3</th>\n",
       "      <td>Titi</td>\n",
       "      <td>Canary</td>\n",
       "      <td>4</td>\n",
       "      <td>papa et maman</td>\n",
       "    </tr>\n",
       "    <tr>\n",
       "      <th>4</th>\n",
       "      <td>Suzanne</td>\n",
       "      <td>Lancellotti</td>\n",
       "      <td>3</td>\n",
       "      <td>NaN</td>\n",
       "    </tr>\n",
       "    <tr>\n",
       "      <th>5</th>\n",
       "      <td>Toto</td>\n",
       "      <td>Le Zombie</td>\n",
       "      <td>4</td>\n",
       "      <td>maman</td>\n",
       "    </tr>\n",
       "  </tbody>\n",
       "</table>\n",
       "</div>"
      ],
      "text/plain": [
       "    prénom            nom  âge          garde\n",
       "0     Toto  Le Magnifique    5          maman\n",
       "1     Toto  Le Magnifique    5           papa\n",
       "2  Charlie          Brown  NaN            NaN\n",
       "3     Titi         Canary    4  papa et maman\n",
       "4  Suzanne    Lancellotti    3            NaN\n",
       "5     Toto      Le Zombie    4          maman"
      ]
     },
     "execution_count": 5,
     "metadata": {},
     "output_type": "execute_result"
    }
   ],
   "source": [
    "pd.read_csv('data/enfants.csv', sep=';', na_values=99)"
   ]
  },
  {
   "cell_type": "markdown",
   "metadata": {},
   "source": [
    "Nous allons donner un nom à ce «data frame» (structure de données très pratique), ce sera `enfants`."
   ]
  },
  {
   "cell_type": "code",
   "execution_count": 6,
   "metadata": {
    "collapsed": true
   },
   "outputs": [],
   "source": [
    "enfants = pd.read_csv('data/enfants.csv', sep=';', na_values='99')"
   ]
  },
  {
   "cell_type": "markdown",
   "metadata": {},
   "source": [
    "Nous pouvons accéder aux données de garde avec la syntaxe (intuitive) suivante :"
   ]
  },
  {
   "cell_type": "code",
   "execution_count": 7,
   "metadata": {
    "collapsed": false
   },
   "outputs": [
    {
     "data": {
      "text/plain": [
       "0            maman\n",
       "1             papa\n",
       "2              NaN\n",
       "3    papa et maman\n",
       "4              NaN\n",
       "5            maman\n",
       "Name: garde, dtype: object"
      ]
     },
     "execution_count": 7,
     "metadata": {},
     "output_type": "execute_result"
    }
   ],
   "source": [
    "enfants['garde']"
   ]
  },
  {
   "cell_type": "markdown",
   "metadata": {
    "collapsed": false,
    "scrolled": true
   },
   "source": [
    "ou bien `enfants.loc[:, 'garde']`."
   ]
  },
  {
   "cell_type": "markdown",
   "metadata": {},
   "source": [
    "# Retrait des doublons"
   ]
  },
  {
   "cell_type": "markdown",
   "metadata": {},
   "source": [
    "Remarquons que nous avons deux entrées pour Toto Le Magnifique. Si nous ne voulons conserver qu'une entrée (ligne) par enfant, nous pouvons utiliser la méthode `drop_duplicates()`."
   ]
  },
  {
   "cell_type": "code",
   "execution_count": 8,
   "metadata": {
    "collapsed": false
   },
   "outputs": [
    {
     "data": {
      "text/html": [
       "<div>\n",
       "<table border=\"1\" class=\"dataframe\">\n",
       "  <thead>\n",
       "    <tr style=\"text-align: right;\">\n",
       "      <th></th>\n",
       "      <th>prénom</th>\n",
       "      <th>nom</th>\n",
       "      <th>âge</th>\n",
       "      <th>garde</th>\n",
       "    </tr>\n",
       "  </thead>\n",
       "  <tbody>\n",
       "    <tr>\n",
       "      <th>0</th>\n",
       "      <td>Toto</td>\n",
       "      <td>Le Magnifique</td>\n",
       "      <td>5</td>\n",
       "      <td>maman</td>\n",
       "    </tr>\n",
       "    <tr>\n",
       "      <th>2</th>\n",
       "      <td>Charlie</td>\n",
       "      <td>Brown</td>\n",
       "      <td>NaN</td>\n",
       "      <td>NaN</td>\n",
       "    </tr>\n",
       "    <tr>\n",
       "      <th>3</th>\n",
       "      <td>Titi</td>\n",
       "      <td>Canary</td>\n",
       "      <td>4</td>\n",
       "      <td>papa et maman</td>\n",
       "    </tr>\n",
       "    <tr>\n",
       "      <th>4</th>\n",
       "      <td>Suzanne</td>\n",
       "      <td>Lancellotti</td>\n",
       "      <td>3</td>\n",
       "      <td>NaN</td>\n",
       "    </tr>\n",
       "    <tr>\n",
       "      <th>5</th>\n",
       "      <td>Toto</td>\n",
       "      <td>Le Zombie</td>\n",
       "      <td>4</td>\n",
       "      <td>maman</td>\n",
       "    </tr>\n",
       "  </tbody>\n",
       "</table>\n",
       "</div>"
      ],
      "text/plain": [
       "    prénom            nom  âge          garde\n",
       "0     Toto  Le Magnifique    5          maman\n",
       "2  Charlie          Brown  NaN            NaN\n",
       "3     Titi         Canary    4  papa et maman\n",
       "4  Suzanne    Lancellotti    3            NaN\n",
       "5     Toto      Le Zombie    4          maman"
      ]
     },
     "execution_count": 8,
     "metadata": {},
     "output_type": "execute_result"
    }
   ],
   "source": [
    "enfants.drop_duplicates(subset=['prénom', 'nom'])"
   ]
  },
  {
   "cell_type": "markdown",
   "metadata": {},
   "source": [
    "Par défaut, c'est la première entrée qui est conservée (voir la [documentation](http://pandas.pydata.org/pandas-docs/version/0.17.1/generated/pandas.DataFrame.drop_duplicates.html)). Nous perdons alors l'information contenue dans les autres entrées. Nous voudrions plutôt les grouper."
   ]
  },
  {
   "cell_type": "code",
   "execution_count": 9,
   "metadata": {
    "collapsed": false
   },
   "outputs": [
    {
     "data": {
      "text/plain": [
       "prénom   nom          \n",
       "Charlie  Brown                      NaN\n",
       "Suzanne  Lancellotti                NaN\n",
       "Titi     Canary           papa et maman\n",
       "Toto     Le Magnifique        mamanpapa\n",
       "         Le Zombie                maman\n",
       "Name: garde, dtype: object"
      ]
     },
     "execution_count": 9,
     "metadata": {},
     "output_type": "execute_result"
    }
   ],
   "source": [
    "enfants.groupby(by=['prénom', 'nom'])['garde'].sum()"
   ]
  },
  {
   "cell_type": "markdown",
   "metadata": {},
   "source": [
    "Par défaut, `sum()` concatène. Pour une meilleure lisibilité, nous voulons peut-être appliquer une fonction faite maison."
   ]
  },
  {
   "cell_type": "code",
   "execution_count": 10,
   "metadata": {
    "collapsed": false
   },
   "outputs": [
    {
     "data": {
      "text/plain": [
       "prénom   nom          \n",
       "Charlie  Brown                      nan\n",
       "Suzanne  Lancellotti                nan\n",
       "Titi     Canary           papa et maman\n",
       "Toto     Le Magnifique      maman, papa\n",
       "         Le Zombie                maman\n",
       "Name: garde, dtype: object"
      ]
     },
     "execution_count": 10,
     "metadata": {},
     "output_type": "execute_result"
    }
   ],
   "source": [
    "enfants.groupby(by=['prénom', 'nom'])['garde'].apply(lambda x: '%s' % ', '.join(x.astype(str)))"
   ]
  },
  {
   "cell_type": "markdown",
   "metadata": {},
   "source": [
    "Ecrivons une fonction (à appliquer au data frame)."
   ]
  },
  {
   "cell_type": "code",
   "execution_count": 11,
   "metadata": {
    "collapsed": false
   },
   "outputs": [],
   "source": [
    "def groupe_garde(x):\n",
    "    return pd.Series(dict(age = x['âge'].mean(), garde_complete = '%s' % ', '.join(x['garde'].astype(str))))"
   ]
  },
  {
   "cell_type": "code",
   "execution_count": 12,
   "metadata": {
    "collapsed": false
   },
   "outputs": [
    {
     "data": {
      "text/html": [
       "<div>\n",
       "<table border=\"1\" class=\"dataframe\">\n",
       "  <thead>\n",
       "    <tr style=\"text-align: right;\">\n",
       "      <th></th>\n",
       "      <th></th>\n",
       "      <th>age</th>\n",
       "      <th>garde_complete</th>\n",
       "    </tr>\n",
       "    <tr>\n",
       "      <th>prénom</th>\n",
       "      <th>nom</th>\n",
       "      <th></th>\n",
       "      <th></th>\n",
       "    </tr>\n",
       "  </thead>\n",
       "  <tbody>\n",
       "    <tr>\n",
       "      <th>Charlie</th>\n",
       "      <th>Brown</th>\n",
       "      <td>NaN</td>\n",
       "      <td>nan</td>\n",
       "    </tr>\n",
       "    <tr>\n",
       "      <th>Suzanne</th>\n",
       "      <th>Lancellotti</th>\n",
       "      <td>3</td>\n",
       "      <td>nan</td>\n",
       "    </tr>\n",
       "    <tr>\n",
       "      <th>Titi</th>\n",
       "      <th>Canary</th>\n",
       "      <td>4</td>\n",
       "      <td>papa et maman</td>\n",
       "    </tr>\n",
       "    <tr>\n",
       "      <th rowspan=\"2\" valign=\"top\">Toto</th>\n",
       "      <th>Le Magnifique</th>\n",
       "      <td>5</td>\n",
       "      <td>maman, papa</td>\n",
       "    </tr>\n",
       "    <tr>\n",
       "      <th>Le Zombie</th>\n",
       "      <td>4</td>\n",
       "      <td>maman</td>\n",
       "    </tr>\n",
       "  </tbody>\n",
       "</table>\n",
       "</div>"
      ],
      "text/plain": [
       "                       age garde_complete\n",
       "prénom  nom                              \n",
       "Charlie Brown          NaN            nan\n",
       "Suzanne Lancellotti      3            nan\n",
       "Titi    Canary           4  papa et maman\n",
       "Toto    Le Magnifique    5    maman, papa\n",
       "        Le Zombie        4          maman"
      ]
     },
     "execution_count": 12,
     "metadata": {},
     "output_type": "execute_result"
    }
   ],
   "source": [
    "enfants.groupby(by=['prénom', 'nom']).apply(groupe_garde)"
   ]
  },
  {
   "cell_type": "markdown",
   "metadata": {},
   "source": [
    "# Sortie du résultat"
   ]
  },
  {
   "cell_type": "code",
   "execution_count": 13,
   "metadata": {
    "collapsed": false
   },
   "outputs": [],
   "source": [
    "enfants.groupby(by=['prénom', 'nom']).apply(groupe_garde).to_csv('results/enfants_cleanup.csv', sep=';', na_rep='nan')"
   ]
  },
  {
   "cell_type": "markdown",
   "metadata": {},
   "source": [
    "# Autres manipulations"
   ]
  },
  {
   "cell_type": "markdown",
   "metadata": {},
   "source": [
    "Et si nous voulions continuer..."
   ]
  },
  {
   "cell_type": "code",
   "execution_count": 14,
   "metadata": {
    "collapsed": false
   },
   "outputs": [
    {
     "data": {
      "text/html": [
       "<div>\n",
       "<table border=\"1\" class=\"dataframe\">\n",
       "  <thead>\n",
       "    <tr style=\"text-align: right;\">\n",
       "      <th></th>\n",
       "      <th>prénom</th>\n",
       "      <th>nom</th>\n",
       "      <th>age</th>\n",
       "      <th>garde_complete</th>\n",
       "    </tr>\n",
       "  </thead>\n",
       "  <tbody>\n",
       "    <tr>\n",
       "      <th>0</th>\n",
       "      <td>Charlie</td>\n",
       "      <td>Brown</td>\n",
       "      <td>NaN</td>\n",
       "      <td>NaN</td>\n",
       "    </tr>\n",
       "    <tr>\n",
       "      <th>1</th>\n",
       "      <td>Suzanne</td>\n",
       "      <td>Lancellotti</td>\n",
       "      <td>3</td>\n",
       "      <td>NaN</td>\n",
       "    </tr>\n",
       "    <tr>\n",
       "      <th>2</th>\n",
       "      <td>Titi</td>\n",
       "      <td>Canary</td>\n",
       "      <td>4</td>\n",
       "      <td>papa et maman</td>\n",
       "    </tr>\n",
       "    <tr>\n",
       "      <th>3</th>\n",
       "      <td>Toto</td>\n",
       "      <td>Le Magnifique</td>\n",
       "      <td>5</td>\n",
       "      <td>maman, papa</td>\n",
       "    </tr>\n",
       "    <tr>\n",
       "      <th>4</th>\n",
       "      <td>Toto</td>\n",
       "      <td>Le Zombie</td>\n",
       "      <td>4</td>\n",
       "      <td>maman</td>\n",
       "    </tr>\n",
       "  </tbody>\n",
       "</table>\n",
       "</div>"
      ],
      "text/plain": [
       "    prénom            nom  age garde_complete\n",
       "0  Charlie          Brown  NaN            NaN\n",
       "1  Suzanne    Lancellotti    3            NaN\n",
       "2     Titi         Canary    4  papa et maman\n",
       "3     Toto  Le Magnifique    5    maman, papa\n",
       "4     Toto      Le Zombie    4          maman"
      ]
     },
     "execution_count": 14,
     "metadata": {},
     "output_type": "execute_result"
    }
   ],
   "source": [
    "pd.read_csv('results/enfants_cleanup.csv', sep=';', na_values='nan')"
   ]
  }
 ],
 "metadata": {
  "kernelspec": {
   "display_name": "Python 3",
   "language": "python",
   "name": "python3"
  },
  "language_info": {
   "codemirror_mode": {
    "name": "ipython",
    "version": 3
   },
   "file_extension": ".py",
   "mimetype": "text/x-python",
   "name": "python",
   "nbconvert_exporter": "python",
   "pygments_lexer": "ipython3",
   "version": "3.4.3"
  }
 },
 "nbformat": 4,
 "nbformat_minor": 0
}
